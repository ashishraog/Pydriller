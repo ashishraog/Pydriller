{
 "cells": [
  {
   "cell_type": "code",
   "execution_count": 49,
   "metadata": {
    "scrolled": true
   },
   "outputs": [
    {
     "name": "stderr",
     "output_type": "stream",
     "text": [
      "Exception ignored in: <finalize object at 0x26437722f10; dead>\n",
      "Traceback (most recent call last):\n",
      "  File \"C:\\Users\\ashisa\\AppData\\Local\\Continuum\\anaconda3\\lib\\weakref.py\", line 572, in __call__\n",
      "    return info.func(*info.args, **(info.kwargs or {}))\n",
      "  File \"C:\\Users\\ashisa\\AppData\\Local\\Continuum\\anaconda3\\lib\\tempfile.py\", line 795, in _cleanup\n",
      "    _shutil.rmtree(name)\n",
      "  File \"C:\\Users\\ashisa\\AppData\\Local\\Continuum\\anaconda3\\lib\\shutil.py\", line 516, in rmtree\n",
      "    return _rmtree_unsafe(path, onerror)\n",
      "  File \"C:\\Users\\ashisa\\AppData\\Local\\Continuum\\anaconda3\\lib\\shutil.py\", line 395, in _rmtree_unsafe\n",
      "    _rmtree_unsafe(fullname, onerror)\n",
      "  File \"C:\\Users\\ashisa\\AppData\\Local\\Continuum\\anaconda3\\lib\\shutil.py\", line 395, in _rmtree_unsafe\n",
      "    _rmtree_unsafe(fullname, onerror)\n",
      "  File \"C:\\Users\\ashisa\\AppData\\Local\\Continuum\\anaconda3\\lib\\shutil.py\", line 395, in _rmtree_unsafe\n",
      "    _rmtree_unsafe(fullname, onerror)\n",
      "  [Previous line repeated 1 more time]\n",
      "  File \"C:\\Users\\ashisa\\AppData\\Local\\Continuum\\anaconda3\\lib\\shutil.py\", line 400, in _rmtree_unsafe\n",
      "    onerror(os.unlink, fullname, sys.exc_info())\n",
      "  File \"C:\\Users\\ashisa\\AppData\\Local\\Continuum\\anaconda3\\lib\\shutil.py\", line 398, in _rmtree_unsafe\n",
      "    os.unlink(fullname)\n",
      "PermissionError: [WinError 5] Access is denied: 'C:\\\\Users\\\\ashisa\\\\AppData\\\\Local\\\\Temp\\\\tmp9c55we19\\\\jovo-framework\\\\.git\\\\objects\\\\pack\\\\pack-bac42b04955bbd93bc0b81990e55e59e070853bf.idx'\n"
     ]
    }
   ],
   "source": [
    "from pydriller import RepositoryMining\n",
    "import sys\n",
    "import csv\n",
    "count=0\n",
    "#Commit hash, Author name\n",
    "filename=\"Demos1.csv\"\n",
    "fields=['hash','name']\n",
    "row=[]\n",
    "with open(filename, 'w',newline='') as csvfile:\n",
    "    csvwriter=csv.DictWriter(csvfile,fieldnames=fields)\n",
    "    csvwriter.writeheader()\n",
    "    #writing the fields\n",
    "    #csvwriter.writerow(fields)\n",
    "for commit in RepositoryMining('https://github.com/jovotech/jovo-framework.git').traverse_commits(): \n",
    "    #print('Hash {}, author {}'.format(commit.hash, commit.author.name))\n",
    "    temp1=commit.hash\n",
    "    temp2=commit.author.name\n",
    "    rows=[{'hash': temp1,'name': temp2}]\n",
    "    count=count+1\n",
    "    with open(filename, 'a',encoding=\"utf-8\",newline='') as csvfile:\n",
    "        #csvwriter=csv.writer(csvfile)\n",
    "        csvwriter=csv.DictWriter(csvfile,fieldnames=fields)\n",
    "        #writing the data rows\n",
    "        csvwriter.writerows(rows)\n",
    "  #      rows=next(csvwriter)\n",
    "   # print(count)\n"
   ]
  },
  {
   "cell_type": "code",
   "execution_count": 50,
   "metadata": {},
   "outputs": [
    {
     "name": "stdout",
     "output_type": "stream",
     "text": [
      "3232\n"
     ]
    },
    {
     "name": "stderr",
     "output_type": "stream",
     "text": [
      "Exception ignored in: <finalize object at 0x26437722ac0; dead>\n",
      "Traceback (most recent call last):\n",
      "  File \"C:\\Users\\ashisa\\AppData\\Local\\Continuum\\anaconda3\\lib\\weakref.py\", line 572, in __call__\n",
      "    return info.func(*info.args, **(info.kwargs or {}))\n",
      "  File \"C:\\Users\\ashisa\\AppData\\Local\\Continuum\\anaconda3\\lib\\tempfile.py\", line 795, in _cleanup\n",
      "    _shutil.rmtree(name)\n",
      "  File \"C:\\Users\\ashisa\\AppData\\Local\\Continuum\\anaconda3\\lib\\shutil.py\", line 516, in rmtree\n",
      "    return _rmtree_unsafe(path, onerror)\n",
      "  File \"C:\\Users\\ashisa\\AppData\\Local\\Continuum\\anaconda3\\lib\\shutil.py\", line 395, in _rmtree_unsafe\n",
      "    _rmtree_unsafe(fullname, onerror)\n",
      "  File \"C:\\Users\\ashisa\\AppData\\Local\\Continuum\\anaconda3\\lib\\shutil.py\", line 395, in _rmtree_unsafe\n",
      "    _rmtree_unsafe(fullname, onerror)\n",
      "  File \"C:\\Users\\ashisa\\AppData\\Local\\Continuum\\anaconda3\\lib\\shutil.py\", line 395, in _rmtree_unsafe\n",
      "    _rmtree_unsafe(fullname, onerror)\n",
      "  [Previous line repeated 1 more time]\n",
      "  File \"C:\\Users\\ashisa\\AppData\\Local\\Continuum\\anaconda3\\lib\\shutil.py\", line 400, in _rmtree_unsafe\n",
      "    onerror(os.unlink, fullname, sys.exc_info())\n",
      "  File \"C:\\Users\\ashisa\\AppData\\Local\\Continuum\\anaconda3\\lib\\shutil.py\", line 398, in _rmtree_unsafe\n",
      "    os.unlink(fullname)\n",
      "PermissionError: [WinError 5] Access is denied: 'C:\\\\Users\\\\ashisa\\\\AppData\\\\Local\\\\Temp\\\\tmptwe6mv26\\\\jovo-framework\\\\.git\\\\objects\\\\pack\\\\pack-d32c887923f73519233cb92fce5bb7167941357b.idx'\n"
     ]
    }
   ],
   "source": [
    "from pydriller import RepositoryMining\n",
    "import sys\n",
    "import csv\n",
    "count=0\n",
    "#Commit hash, Author name\n",
    "filename=\"Demos2.csv\"\n",
    "fields=['hash','name']\n",
    "row=[]\n",
    "with open(filename, 'w') as csvfile:\n",
    "    csvwriter=csv.writer(csvfile)\n",
    "    #csvwriter=csv.DictWriter(csvfile,fieldnames=fields)\n",
    "    #csvwriter.writeheader()\n",
    "    \n",
    "    #writing the fields\n",
    "    csvwriter.writerow(fields)\n",
    "for commit in RepositoryMining('https://github.com/jovotech/jovo-framework.git').traverse_commits(): \n",
    "    #print('Hash {}, author {}'.format(commit.hash, commit.author.name))\n",
    "    temp1=commit.hash\n",
    "    temp2=commit.author.name\n",
    "    rows=[temp1,temp2]\n",
    "    #rows=[{'hash': temp1},{'name': temp2}]\n",
    "    count=count+1\n",
    "    with open(filename, 'a',encoding=\"utf-8\", newline='') as csvfile:\n",
    "        csvwriter=csv.writer(csvfile)\n",
    "        #csvwriter=csv.DictWriter(csvfile,fieldnames=fields)\n",
    "        #writing the data rows\n",
    "        csvwriter.writerows(rows)\n",
    "  #      rows=next(csvwriter)\n",
    "print(count)\n"
   ]
  },
  {
   "cell_type": "code",
   "execution_count": 51,
   "metadata": {},
   "outputs": [
    {
     "name": "stderr",
     "output_type": "stream",
     "text": [
      "Exception ignored in: <finalize object at 0x26437722c90; dead>\n",
      "Traceback (most recent call last):\n",
      "  File \"C:\\Users\\ashisa\\AppData\\Local\\Continuum\\anaconda3\\lib\\weakref.py\", line 572, in __call__\n",
      "    return info.func(*info.args, **(info.kwargs or {}))\n",
      "  File \"C:\\Users\\ashisa\\AppData\\Local\\Continuum\\anaconda3\\lib\\tempfile.py\", line 795, in _cleanup\n",
      "    _shutil.rmtree(name)\n",
      "  File \"C:\\Users\\ashisa\\AppData\\Local\\Continuum\\anaconda3\\lib\\shutil.py\", line 516, in rmtree\n",
      "    return _rmtree_unsafe(path, onerror)\n",
      "  File \"C:\\Users\\ashisa\\AppData\\Local\\Continuum\\anaconda3\\lib\\shutil.py\", line 395, in _rmtree_unsafe\n",
      "    _rmtree_unsafe(fullname, onerror)\n",
      "  File \"C:\\Users\\ashisa\\AppData\\Local\\Continuum\\anaconda3\\lib\\shutil.py\", line 395, in _rmtree_unsafe\n",
      "    _rmtree_unsafe(fullname, onerror)\n",
      "  File \"C:\\Users\\ashisa\\AppData\\Local\\Continuum\\anaconda3\\lib\\shutil.py\", line 395, in _rmtree_unsafe\n",
      "    _rmtree_unsafe(fullname, onerror)\n",
      "  [Previous line repeated 1 more time]\n",
      "  File \"C:\\Users\\ashisa\\AppData\\Local\\Continuum\\anaconda3\\lib\\shutil.py\", line 400, in _rmtree_unsafe\n",
      "    onerror(os.unlink, fullname, sys.exc_info())\n",
      "  File \"C:\\Users\\ashisa\\AppData\\Local\\Continuum\\anaconda3\\lib\\shutil.py\", line 398, in _rmtree_unsafe\n",
      "    os.unlink(fullname)\n",
      "PermissionError: [WinError 5] Access is denied: 'C:\\\\Users\\\\ashisa\\\\AppData\\\\Local\\\\Temp\\\\tmpr6iifr1x\\\\jovo-framework\\\\.git\\\\objects\\\\pack\\\\pack-bac42b04955bbd93bc0b81990e55e59e070853bf.idx'\n"
     ]
    }
   ],
   "source": [
    "from pydriller import RepositoryMining\n",
    "import sys\n",
    "import csv\n",
    "count=0\n",
    "#Commit hash, Author name\n",
    "filename=\"Demos3.csv\"\n",
    "fields=['hash','name','filename']\n",
    "row=[]\n",
    "with open(filename, 'w',newline='') as csvfile:\n",
    "    csvwriter=csv.DictWriter(csvfile,fieldnames=fields)\n",
    "    csvwriter.writeheader()\n",
    "    #writing the fields\n",
    "    #csvwriter.writerow(fields)\n",
    "for commit in RepositoryMining('https://github.com/jovotech/jovo-framework.git').traverse_commits(): \n",
    "    for modification in commit.modifications:\n",
    "        temp1=commit.hash\n",
    "        temp2=commit.author.name\n",
    "        temp3=modification.filename\n",
    "        rows=[{'hash': temp1,'name': temp2,'filename': temp3}]\n",
    "        count=count+1\n",
    "        with open(filename, 'a',encoding=\"utf-8\",newline='') as csvfile:\n",
    "            #csvwriter=csv.writer(csvfile)\n",
    "            csvwriter=csv.DictWriter(csvfile,fieldnames=fields)\n",
    "            #writing the data rows\n",
    "            csvwriter.writerows(rows)\n",
    "      #      rows=next(csvwriter)\n",
    "\n",
    "   # print(count)\n"
   ]
  },
  {
   "cell_type": "code",
   "execution_count": 52,
   "metadata": {},
   "outputs": [
    {
     "ename": "AttributeError",
     "evalue": "'list' object has no attribute 'strip'",
     "output_type": "error",
     "traceback": [
      "\u001b[1;31m---------------------------------------------------------------------------\u001b[0m",
      "\u001b[1;31mAttributeError\u001b[0m                            Traceback (most recent call last)",
      "\u001b[1;32m<ipython-input-52-914f7732d931>\u001b[0m in \u001b[0;36m<module>\u001b[1;34m\u001b[0m\n\u001b[0;32m     11\u001b[0m \u001b[1;31m# remove leading and trailing whitespace from all values\u001b[0m\u001b[1;33m\u001b[0m\u001b[1;33m\u001b[0m\u001b[1;33m\u001b[0m\u001b[0m\n\u001b[0;32m     12\u001b[0m reader = [\n\u001b[1;32m---> 13\u001b[1;33m     dict((k, v.strip()) for k, v in row.items() if v) for row in reader]\n\u001b[0m\u001b[0;32m     14\u001b[0m \u001b[1;33m\u001b[0m\u001b[0m\n\u001b[0;32m     15\u001b[0m \u001b[1;31m# print results\u001b[0m\u001b[1;33m\u001b[0m\u001b[1;33m\u001b[0m\u001b[1;33m\u001b[0m\u001b[0m\n",
      "\u001b[1;32m<ipython-input-52-914f7732d931>\u001b[0m in \u001b[0;36m<listcomp>\u001b[1;34m(.0)\u001b[0m\n\u001b[0;32m     11\u001b[0m \u001b[1;31m# remove leading and trailing whitespace from all values\u001b[0m\u001b[1;33m\u001b[0m\u001b[1;33m\u001b[0m\u001b[1;33m\u001b[0m\u001b[0m\n\u001b[0;32m     12\u001b[0m reader = [\n\u001b[1;32m---> 13\u001b[1;33m     dict((k, v.strip()) for k, v in row.items() if v) for row in reader]\n\u001b[0m\u001b[0;32m     14\u001b[0m \u001b[1;33m\u001b[0m\u001b[0m\n\u001b[0;32m     15\u001b[0m \u001b[1;31m# print results\u001b[0m\u001b[1;33m\u001b[0m\u001b[1;33m\u001b[0m\u001b[1;33m\u001b[0m\u001b[0m\n",
      "\u001b[1;32m<ipython-input-52-914f7732d931>\u001b[0m in \u001b[0;36m<genexpr>\u001b[1;34m(.0)\u001b[0m\n\u001b[0;32m     11\u001b[0m \u001b[1;31m# remove leading and trailing whitespace from all values\u001b[0m\u001b[1;33m\u001b[0m\u001b[1;33m\u001b[0m\u001b[1;33m\u001b[0m\u001b[0m\n\u001b[0;32m     12\u001b[0m reader = [\n\u001b[1;32m---> 13\u001b[1;33m     dict((k, v.strip()) for k, v in row.items() if v) for row in reader]\n\u001b[0m\u001b[0;32m     14\u001b[0m \u001b[1;33m\u001b[0m\u001b[0m\n\u001b[0;32m     15\u001b[0m \u001b[1;31m# print results\u001b[0m\u001b[1;33m\u001b[0m\u001b[1;33m\u001b[0m\u001b[1;33m\u001b[0m\u001b[0m\n",
      "\u001b[1;31mAttributeError\u001b[0m: 'list' object has no attribute 'strip'"
     ]
    }
   ],
   "source": [
    "#Remove leading and trailing whitespace from a csv file\n",
    "#not working for this \n",
    "reader = csv.DictReader(\n",
    "    open('Demos2.csv'),\n",
    "    fieldnames=('hash', 'name'),\n",
    ")\n",
    "\n",
    "# skip the header row\n",
    "next(reader)\n",
    "\n",
    "# remove leading and trailing whitespace from all values\n",
    "reader = [\n",
    "    dict((k, v.strip()) for k, v in row.items() if v) for row in reader]\n",
    "\n",
    "# print results\n",
    "#for row in reader:\n",
    "#    print row"
   ]
  },
  {
   "cell_type": "code",
   "execution_count": null,
   "metadata": {},
   "outputs": [],
   "source": []
  }
 ],
 "metadata": {
  "kernelspec": {
   "display_name": "Python 3",
   "language": "python",
   "name": "python3"
  },
  "language_info": {
   "codemirror_mode": {
    "name": "ipython",
    "version": 3
   },
   "file_extension": ".py",
   "mimetype": "text/x-python",
   "name": "python",
   "nbconvert_exporter": "python",
   "pygments_lexer": "ipython3",
   "version": "3.7.4"
  }
 },
 "nbformat": 4,
 "nbformat_minor": 2
}
